{
 "cells": [
  {
   "cell_type": "code",
   "execution_count": null,
   "id": "966f888a",
   "metadata": {},
   "outputs": [],
   "source": [
    "from src.observation import Exposure\n",
    "\n",
    "test = Exposure(type=\"test\", n_obs=2)\n",
    "test.run()"
   ]
  }
 ],
 "metadata": {
  "kernelspec": {
   "display_name": "sdr",
   "language": "python",
   "name": "python3"
  },
  "language_info": {
   "codemirror_mode": {
    "name": "ipython",
    "version": 3
   },
   "file_extension": ".py",
   "mimetype": "text/x-python",
   "name": "python",
   "nbconvert_exporter": "python",
   "pygments_lexer": "ipython3",
   "version": "3.12.4"
  }
 },
 "nbformat": 4,
 "nbformat_minor": 5
}
